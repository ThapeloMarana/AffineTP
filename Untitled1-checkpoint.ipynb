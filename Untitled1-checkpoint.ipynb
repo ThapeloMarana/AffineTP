{
 "cells": [
  {
   "cell_type": "code",
   "execution_count": 1,
   "id": "c9dd342c-f3f4-48a5-851b-3e6a22986cdb",
   "metadata": {},
   "outputs": [],
   "source": [
    "import tkinter as tk\n",
    "from tkinter import messagebox\n",
    "\n",
    "# Initialize the main window\n",
    "root = tk.Tk()\n",
    "root.title(\"CodeQuest: Python Adventure\")\n",
    "root.geometry(\"800x600\")  # Set window size\n",
    "\n",
    "# Main game loop\n",
    "root.mainloop()\n",
    "\n",
    "def display_item():\n",
    "    item_name = entry_name.get()\n",
    "    item_price = entry_price.get()\n",
    "    messagebox.showinfo(\"Item Info\", f\"Item: {item_name}\\nPrice: ${item_price}\")\n",
    "\n",
    "# Create widgets\n",
    "label_name = tk.Label(root, text=\"Item Name:\")\n",
    "label_name.pack()\n",
    "entry_name = tk.Entry(root)\n",
    "entry_name.pack()\n",
    "\n",
    "label_price = tk.Label(root, text=\"Item Price:\")\n",
    "label_price.pack()\n",
    "entry_price = tk.Entry(root)\n",
    "entry_price.pack()\n",
    "\n",
    "button_display = tk.Button(root, text=\"Display Item\", command=display_item)\n",
    "button_display.pack()\n",
    "\n",
    "\n"
   ]
  },
  {
   "cell_type": "code",
   "execution_count": null,
   "id": "cc03833d-8e96-41de-8916-a2378bbe672d",
   "metadata": {},
   "outputs": [],
   "source": []
  }
 ],
 "metadata": {
  "kernelspec": {
   "display_name": "Python 3 (ipykernel)",
   "language": "python",
   "name": "python3"
  },
  "language_info": {
   "codemirror_mode": {
    "name": "ipython",
    "version": 3
   },
   "file_extension": ".py",
   "mimetype": "text/x-python",
   "name": "python",
   "nbconvert_exporter": "python",
   "pygments_lexer": "ipython3",
   "version": "3.12.4"
  }
 },
 "nbformat": 4,
 "nbformat_minor": 5
}
