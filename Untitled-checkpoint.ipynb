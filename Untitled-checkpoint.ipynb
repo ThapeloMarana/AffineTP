{
 "cells": [
  {
   "cell_type": "code",
   "execution_count": 4,
   "id": "d1061e8f-8feb-4419-a98e-42e6f1a4666d",
   "metadata": {},
   "outputs": [
    {
     "name": "stdout",
     "output_type": "stream",
     "text": [
      "Hello World\n"
     ]
    }
   ],
   "source": [
    "print (\"Hello World\")"
   ]
  },
  {
   "cell_type": "code",
   "execution_count": 2,
   "id": "6d5d1f8a-d498-4029-9b4b-87b4b5ea4f07",
   "metadata": {},
   "outputs": [
    {
     "name": "stdout",
     "output_type": "stream",
     "text": [
      "Objects\n",
      "toothbrush\n"
     ]
    },
    {
     "ename": "ValueError",
     "evalue": "too many values to unpack (expected 4)",
     "output_type": "error",
     "traceback": [
      "\u001b[1;31m---------------------------------------------------------------------------\u001b[0m",
      "\u001b[1;31mValueError\u001b[0m                                Traceback (most recent call last)",
      "Cell \u001b[1;32mIn[2], line 29\u001b[0m\n\u001b[0;32m     26\u001b[0m (class_ids, scores, bboxes) \u001b[38;5;241m=\u001b[39m model\u001b[38;5;241m.\u001b[39mdetect(frame)\n\u001b[0;32m     28\u001b[0m \u001b[38;5;28;01mfor\u001b[39;00m class_id, score, bbox \u001b[38;5;129;01min\u001b[39;00m \u001b[38;5;28mzip\u001b[39m(class_ids, scores, bboxes):\n\u001b[1;32m---> 29\u001b[0m     (x, y, w, h) \u001b[38;5;241m=\u001b[39m \u001b[38;5;28mstr\u001b[39m(bbox)\n\u001b[0;32m     30\u001b[0m     \u001b[38;5;28mprint\u001b[39m(x, y, w, h)\n\u001b[0;32m     31\u001b[0m     class_name \u001b[38;5;241m=\u001b[39m classes[class_id]\n",
      "\u001b[1;31mValueError\u001b[0m: too many values to unpack (expected 4)"
     ]
    }
   ],
   "source": [
    "import cv2\n",
    "\n",
    "#OpenCV DNN\n",
    "net = cv2.dnn.readNet(\"dnn_model/yolov4-tiny.weights\", \"dnn_model/yolov4-tiny.cfg\")\n",
    "model = cv2.dnn_DetectionModel(net)\n",
    "model.setInputParams(size=(320,320), scale=1/255)\n",
    "\n",
    "# Load class lists\n",
    "classes = []\n",
    "with open(\"dnn_model/classes.txt\", \"r\") as file_object:\n",
    "    for class_name in file_object.readlines():\n",
    "        class_name = class_name.strip()\n",
    "        classes.append(classes)\n",
    "\n",
    "print(\"Objects\")\n",
    "print(class_name)\n",
    "#Intialize camera\n",
    "cap  = cv2.VideoCapture(0)\n",
    " \n",
    "\n",
    "while True:\n",
    "    #get frames\n",
    "    ret, frame = cap.read()\n",
    "\n",
    "    #Object Detection\n",
    "    (class_ids, scores, bboxes) = model.detect(frame)\n",
    "\n",
    "    for class_id, score, bbox in zip(class_ids, scores, bboxes):\n",
    "        (x, y, w, h) = str(bbox)\n",
    "        print(x, y, w, h)\n",
    "        class_name = [classes[class_id]]\n",
    "        cv2.putText(frame, class_name, (x, y-10), cv2.FONT_HERSHEY_PLAIN, 2, (200,0,50), 2)\n",
    "        cv2.rectangle(frame, (x, y), (x+w, y+h), (200,0,50), 3)\n",
    "    \n",
    "    print (\"class ids\", class_ids)\n",
    "    print (\"Scores\", scores)\n",
    "    print (\"bboxes\", bboxes)\n",
    "\n",
    "    cv2.imshow(\"Frame\", frame)\n",
    "    cv2.waitKey(1)\n",
    "\n",
    "    \n"
   ]
  },
  {
   "cell_type": "code",
   "execution_count": null,
   "id": "64d104d8-e732-4ddd-bbf5-86f2b0660327",
   "metadata": {},
   "outputs": [],
   "source": []
  },
  {
   "cell_type": "code",
   "execution_count": null,
   "id": "96fafcef-f615-41ac-9e29-7d4f75406803",
   "metadata": {},
   "outputs": [],
   "source": []
  }
 ],
 "metadata": {
  "kernelspec": {
   "display_name": "Python 3 (ipykernel)",
   "language": "python",
   "name": "python3"
  },
  "language_info": {
   "codemirror_mode": {
    "name": "ipython",
    "version": 3
   },
   "file_extension": ".py",
   "mimetype": "text/x-python",
   "name": "python",
   "nbconvert_exporter": "python",
   "pygments_lexer": "ipython3",
   "version": "3.12.4"
  }
 },
 "nbformat": 4,
 "nbformat_minor": 5
}
