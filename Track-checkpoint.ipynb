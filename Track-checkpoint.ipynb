{
 "cells": [
  {
   "cell_type": "code",
   "execution_count": 1,
   "id": "1b30c4fe-010e-4e61-8b2a-03b7675e0c52",
   "metadata": {},
   "outputs": [
    {
     "name": "stdout",
     "output_type": "stream",
     "text": [
      "Lesotho\n",
      "Vodacom Lesotho (Pty) Ltd\n",
      "[{'annotations': {'DMS': {'lat': \"29° 36' 14.13612'' S\", 'lng': \"28° 20' 6.06948'' E\"}, 'MGRS': '35JPH2927324357', 'Maidenhead': 'KG40ej05eb', 'Mercator': {'x': 3154239.92, 'y': -3431635.027}, 'OSM': {'edit_url': 'https://www.openstreetmap.org/edit?relation=2093234#map=16/-29.60393/28.33502', 'note_url': 'https://www.openstreetmap.org/note/new#map=16/-29.60393/28.33502&layers=N', 'url': 'https://www.openstreetmap.org/?mlat=-29.60393&mlon=28.33502#map=16/-29.60393/28.33502'}, 'UN_M49': {'regions': {'AFRICA': '002', 'LS': '426', 'SOUTHERN_AFRICA': '018', 'SUB-SAHARAN_AFRICA': '202', 'WORLD': '001'}, 'statistical_groupings': ['LDC', 'LEDC', 'LLDC']}, 'callingcode': 266, 'currency': {'alternate_symbols': ['M'], 'decimal_mark': '.', 'disambiguate_symbol': 'M', 'format': '%n %u', 'html_entity': '', 'iso_code': 'LSL', 'iso_numeric': '426', 'name': 'Lesotho Loti', 'smallest_denomination': 1, 'subunit': 'Sente', 'subunit_to_unit': 100, 'symbol': 'L', 'symbol_first': 0, 'thousands_separator': ','}, 'flag': '🇱🇸', 'geohash': 'kdspsfbbtu1dxenhp22c', 'qibla': 13.57, 'roadinfo': {'drive_on': 'left', 'speed_in': 'km/h'}, 'sun': {'rise': {'apparent': 1725509880, 'astronomical': 1725505140, 'civil': 1725508440, 'nautical': 1725506760}, 'set': {'apparent': 1725551580, 'astronomical': 1725556320, 'civil': 1725553020, 'nautical': 1725554700}}, 'timezone': {'name': 'Africa/Maseru', 'now_in_dst': 0, 'offset_sec': 7200, 'offset_string': '+0200', 'short_name': 'SAST'}, 'what3words': {'words': 'renegotiate.styling.depth'}, 'wikidata': 'Q1013'}, 'bounds': {'northeast': {'lat': -28.5705652, 'lng': 29.4557099}, 'southwest': {'lat': -30.6780352, 'lng': 27.0113763}}, 'components': {'ISO_3166-1_alpha-2': 'LS', 'ISO_3166-1_alpha-3': 'LSO', '_category': 'place', '_type': 'country', 'continent': 'Africa', 'country': 'Lesotho', 'country_code': 'ls'}, 'confidence': 1, 'formatted': 'Lesotho', 'geometry': {'lat': -29.6039267, 'lng': 28.3350193}}]\n",
      "-29.6039267 28.3350193\n"
     ]
    }
   ],
   "source": [
    "import phonenumbers\n",
    "import opencage\n",
    "import folium\n",
    "from myphone import number\n",
    "\n",
    "from phonenumbers import geocoder\n",
    "\n",
    "pepnumber = phonenumbers.parse(number)\n",
    "\n",
    "location = geocoder.description_for_number(pepnumber, \"en\")\n",
    "print(location)\n",
    "\n",
    "from phonenumbers import carrier\n",
    "service_pro = phonenumbers.parse(number)\n",
    "print(carrier.name_for_number(service_pro, \"en\"))\n",
    "\n",
    "from opencage.geocoder import OpenCageGeocode\n",
    "\n",
    "key = '805e2078c5d6427783baaa1a6ade4d0a'\n",
    "\n",
    "geocoder = OpenCageGeocode(key)\n",
    "query = str(location)\n",
    "results = geocoder.geocode(query)\n",
    "print(results)\n",
    "\n",
    "lat = results[0]['geometry']['lat']\n",
    "lng = results[0]['geometry']['lng']\n",
    "\n",
    "print(lat, lng)\n",
    "myMap = folium.Map(location=[lat, lng], zoom_start=9)\n",
    "folium.Marker([lat, lng], popup=location).add_to(myMap)\n",
    "myMap.save(\"Mylocation.html\")"
   ]
  },
  {
   "cell_type": "code",
   "execution_count": null,
   "id": "fee5c5fe-b90f-4f53-9260-bff2fb602ce4",
   "metadata": {},
   "outputs": [],
   "source": []
  }
 ],
 "metadata": {
  "kernelspec": {
   "display_name": "Python 3 (ipykernel)",
   "language": "python",
   "name": "python3"
  },
  "language_info": {
   "codemirror_mode": {
    "name": "ipython",
    "version": 3
   },
   "file_extension": ".py",
   "mimetype": "text/x-python",
   "name": "python",
   "nbconvert_exporter": "python",
   "pygments_lexer": "ipython3",
   "version": "3.12.4"
  }
 },
 "nbformat": 4,
 "nbformat_minor": 5
}
